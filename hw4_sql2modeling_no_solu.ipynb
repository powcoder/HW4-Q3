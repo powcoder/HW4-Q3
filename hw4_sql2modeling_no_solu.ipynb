{
    "metadata": {
        "kernelspec": {
            "name": "python3",
            "display_name": "Python 3 (ipykernel)",
            "language": "python"
        }
    },
    "nbformat": 4,
    "nbformat_minor": 5,
    "cells": [
        {
            "attachments": {},
            "cell_type": "markdown",
            "metadata": {},
            "source": [
                "## 311 Housing Issues\n",
                "\n",
                "We're hoping to model the relationship between pests and missed garbage collection in NYC.\n",
                "\n",
                "For convenience, we'll assume the [311 Service Requests](https://data.cityofnewyork.us/Social-Services/311-Service-Requests-from-2010-to-Present/erm2-nwe9) cover all requests made to the city for both complaints about pests and complaints about missed garbage collection.\n",
                "\n",
                "Below is a query to find 311 requests that mention \"pest\" in their descriptor. Its purpose is to give you a template query for the following problems.\n",
                "- Reference for [LIKE](https://dev.socrata.com/docs/functions/like.html)\n",
                "- Reference for [functions dealing with strings like LOWER](https://dev.socrata.com/docs/datatypes/text.html)\n",
                "- Reference for [date_extract_y](https://dev.socrata.com/docs/datatypes/floating_timestamp.html#,), this is unique to SoQL on this platform\n",
                "- Reference for using [AND](https://dev.socrata.com/docs/queries/where.html) in our WHERE statement"
            ]
        },
        {
            "cell_type": "code",
            "execution_count": 1,
            "metadata": {},
            "outputs": [],
            "source": [
                "import requests\n",
                "import pandas as pd"
            ]
        },
        {
            "cell_type": "code",
            "execution_count": 2,
            "metadata": {},
            "outputs": [],
            "source": [
                "# url = \"https://data.cityofnewyork.us/resource/erm2-nwe9.json\"\n",
                "# query = \"\"\"\n",
                "# SELECT\n",
                "#     agency, agency_name,\n",
                "#     complaint_type,\n",
                "#     descriptor,\n",
                "#     COUNT(unique_key) as cnt,\n",
                "#     date_extract_m(created_date) as month\n",
                "# WHERE\n",
                "#     lower(descriptor) like '%pest%' AND\n",
                "#     date_extract_y(created_date) = 2021 AND\n",
                "#     month \u003e 10\n",
                "# GROUP BY\n",
                "#     agency, agency_name, complaint_type, descriptor, month\n",
                "# LIMIT\n",
                "#     50000\n",
                "# \"\"\"\n",
                "# params = {\"$query\": query}\n",
                "\n",
                "# resp = requests.get(url=url, params=params)\n",
                "# assert resp.status_code == 200"
            ]
        },
        {
            "cell_type": "code",
            "execution_count": 3,
            "metadata": {},
            "outputs": [],
            "source": [
                "# df = pd.DataFrame(resp.json())\n",
                "# df[\"cnt\"] = df.cnt.astype(float)\n",
                "# df.sort_values(\"cnt\").tail(10)"
            ]
        },
        {
            "attachments": {},
            "cell_type": "markdown",
            "metadata": {},
            "source": [
                "## Question 0 - getting the response variable\n",
                "\n",
                "All references to time should be extracted from the `created_date` variable. I **highly** recommend you to limit the time range you're querying when you're still testing out your query, e.g. limit to a single year and month.\n",
                "\n",
                "Using the **SoQL language similar to the example above**, please create a data frame, called `pest`, where each row corresponds to a different year, month, and borough.\n",
                "The columns should be the year, month, borough, and number of requests made. Please make sure the number of requests made is of type float. \n",
                "\n",
                "Please make sure all data with the following constraints are included:\n",
                "- The agency should be `'HPD'`\n",
                "- The year should be 2021 or earlier (so the data likely remains static during this assignment)\n",
                "- The lower-cased value from `complaint_type` should be `\"unsanitary condition\"`\n",
                "- The lower-cased value from `descriptor` must contain the word `pest`\n",
                "- You can assume that the number of data are less than 50000.\n",
                "\n",
                "Do NOT use `pandas` functionalities to perform the aggregation."
            ]
        },
        {
            "cell_type": "code",
            "execution_count": 4,
            "metadata": {},
            "outputs": [],
            "source": [
                "### TEST FUNCTION: test_311_get_y\n",
                "# DO NOT REMOVE THE LINE ABOVE\n",
                "\n",
                "\n",
                ""
            ]
        },
        {
            "attachments": {},
            "cell_type": "markdown",
            "metadata": {},
            "source": [
                "## Question 1 - getting the independent variable\n",
                "\n",
                "All references to time should be extracted from the `created_date` variable. I **highly** recommend you to limit the time range you're querying when you're still testing out your query, e.g. limit to a single year and month.\n",
                "\n",
                "Using the **SoQL language similar to the example above**, please create a data frame, called `missed_collect`, where each row corresponds to a different year, month, and borough.\n",
                "The columns should be the year, month, borough, and number of requests made. Please make sure the number of requests made is of type float.\n",
                "\n",
                "Please make sure all data with the following constraints are included:\n",
                "- The agency should be `'DSNY'`\n",
                "- The year should be 2021 or earlier (so the data likely remains static during this assignment)\n",
                "- The lower-cased value from `complaint_type` must contain the word `miss` (this includes recycles and other variables which we will aggregate over)\n",
                "- You can assume that the number of data are less than 50000.\n",
                "\n",
                "Do NOT use `pandas` functionalities to perform the aggregation."
            ]
        },
        {
            "cell_type": "code",
            "execution_count": 5,
            "metadata": {},
            "outputs": [],
            "source": [
                "### TEST FUNCTION: test_311_get_x\n",
                "# DO NOT REMOVE THE LINE ABOVE\n",
                "\n",
                "\n",
                ""
            ]
        },
        {
            "attachments": {},
            "cell_type": "markdown",
            "metadata": {},
            "source": [
                "## Question 2 - examine the data\n",
                "\n",
                "If you cannot solve the two problems above, please use `pest.csv` and `missed_collect.csv` to proceed.\n",
                "\n",
                "For data in Manhattan, please use `seaborn.lineplot`, to plot the requests about pests and missed collections on the same plot.\n",
                "- Make sure the two lines have different colors.\n",
                "- Please make a data frame with both sets of data titled `mdf`\n",
                "  - Make sure `mdf` has a column titled `\"date\"` for the x-axis and is a timestamp see `pandas.to_datetime()`\n",
                "  - Make sure `mdf` only has data from Manhattan\n",
                "  - Make sure `mdf` has a column titled `\"counts\"` for the y-axis\n",
                "- You should set the different colored lines using the `hue` argument. The variable you pass to this from `mdf` should be called `\"var\"`.\n",
                "- Your graph should clearly show which dataset has more available data\n",
                "\n",
                "Hint: you may need to call `reset_index(inplace=True, drop=True)` if you encounter errors about duplicate index.\n",
                "\n",
                "Side comment: in an exam you would be asked about interpreting this graph."
            ]
        },
        {
            "cell_type": "code",
            "execution_count": 6,
            "metadata": {
                "scrolled": true
            },
            "outputs": [],
            "source": [
                "### TEST FUNCTION: test_plot_wrangle\n",
                "# DO NOT REMOVE THE LINE ABOVE\n",
                ""
            ]
        },
        {
            "cell_type": "code",
            "execution_count": 7,
            "metadata": {},
            "outputs": [],
            "source": [
                ""
            ]
        },
        {
            "attachments": {},
            "cell_type": "markdown",
            "metadata": {},
            "source": [
                "## Question 3 - creating a base model dataset\n",
                "\n",
                "Please create a new data frame called `bdf` where we will model the relationship between the number of pest requests vs the number of missed collection requests.\n",
                "\n",
                "Here are some specifications for `bdf`:\n",
                "- It should have a column titled `\"counts\"` which are the number of pest requests\n",
                "- It should have a column titled `\"month\"`\n",
                "- It should have a column titled `\"log_counts\"` which are `log(1 + the number of pest requests)` where `log` is the natural log.\n",
                "- It should have a column titled `lag0` which are the number of missed collection requests.\n",
                "- All the variables above should be aligned by date, i.e. the data should be sourced from the same date. Please create a column named `lag1` which is similar to `lag0` except that it is one month behind. (e.g., if `lag0` corresponds to a record in Januray, 2010, then `lag1` is from February, 2010.)\n",
                "- You should have an \"indicator\" column for each borough but one (which one you drop will not matter), i.e. the values in this column should be 1 if the record is from this borough and 0 otherwise. Their titles do not matter.\n",
                "- You should have a column titled `year` that contains the year of the pest request counts.\n",
                "- Each row should maintain the same interpretation as a record for a year, month, and borough.\n",
                "\n",
                "WARNING, this can be very time consuming....it's best to assume some months are missing in 2020 for some boroughs, i.e. \"shifting\" the data is not advised for obtaining the `lag1`."
            ]
        },
        {
            "cell_type": "code",
            "execution_count": 8,
            "metadata": {},
            "outputs": [],
            "source": [
                "### TEST FUNCTION: test_model_wrangle\n",
                "# DO NOT REMOVE THE LINE ABOVE\n",
                ""
            ]
        },
        {
            "cell_type": "code",
            "execution_count": 9,
            "metadata": {
                "scrolled": true
            },
            "outputs": [],
            "source": [
                ""
            ]
        },
        {
            "attachments": {},
            "cell_type": "markdown",
            "metadata": {},
            "source": [
                "## Question 4 - Split the data\n",
                "\n",
                "Please use the file `hw4_q3.csv` if you want to move on for the following problems.\n",
                "\n",
                "Please call `reset_index(inplace=True, drop=True)` on your data frame once more.\n",
                "\n",
                "Please create a variable called `validate` that is a boolean series with values `True` corresponding to records with `year` being 2020.\n",
                "Please create a variable called `test` that is a boolean series with values `True` corresponding to records with `year` being 2021.\n",
                "Please create a variable called `train` that is a boolean series that is the complement of the two boolean series above."
            ]
        },
        {
            "cell_type": "code",
            "execution_count": 10,
            "metadata": {},
            "outputs": [],
            "source": [
                "### TEST FUNCTION: test_data_split\n",
                "# DO NOT REMOVE THE LINE ABOVE\n",
                "\n",
                ""
            ]
        },
        {
            "cell_type": "code",
            "execution_count": 11,
            "metadata": {},
            "outputs": [],
            "source": [
                ""
            ]
        },
        {
            "cell_type": "code",
            "execution_count": 12,
            "metadata": {},
            "outputs": [],
            "source": [
                ""
            ]
        },
        {
            "attachments": {},
            "cell_type": "markdown",
            "metadata": {},
            "source": [
                "## Question 5 - Choosing the best model\n",
                "\n",
                "Let's fit several different models (finally) using the data points that correspond to `train` then predict on the `validate` records to calculate the root mean squared error, i.e. $\\sqrt{\\frac{1}{n}\\sum_i|Y_i - \\hat{Y}_i|^2}$. All the following model will be a ordinary linear regression that includes an intercept.\n",
                "\n",
                "1. `counts` regressed on the all the borough columns (recall we dropped one), this is the baseline\n",
                "2. `counts` regressed on `lag0` with all the borough columns (recall we dropped one)\n",
                "3. `counts` regressed on `lag1` with all the borough columns (recall we dropped one)\n",
                "4. `log_counts` regressed on `lag0` with all the borough columns (recall we dropped one)\n",
                "5. `log_counts` regressed on `lag1` with all the borough columns (recall we dropped one)\n",
                "\n",
                "For each model, please perform the appropriate transformation so the units for the RMSE are comparable across models. Please store the RMSEs  in a list called `rmse` for the different models in the order listed above."
            ]
        },
        {
            "cell_type": "code",
            "execution_count": 13,
            "metadata": {},
            "outputs": [],
            "source": [
                "### TEST FUNCTION: test_models\n",
                "# DO NOT REMOVE THE LINE ABOVE\n",
                "\n",
                ""
            ]
        },
        {
            "cell_type": "code",
            "execution_count": 14,
            "metadata": {},
            "outputs": [],
            "source": [
                ""
            ]
        },
        {
            "cell_type": "code",
            "execution_count": 15,
            "metadata": {},
            "outputs": [],
            "source": [
                ""
            ]
        }
    ]
}
